{
 "cells": [
  {
   "cell_type": "code",
   "execution_count": 5,
   "metadata": {
    "collapsed": false
   },
   "outputs": [
    {
     "data": {
      "text/plain": [
       "[<matplotlib.lines.Line2D at 0x9f4d780>]"
      ]
     },
     "execution_count": 5,
     "metadata": {},
     "output_type": "execute_result"
    },
    {
     "data": {
      "image/png": "[encoded data removed]",
      "text/plain": [
       "<matplotlib.figure.Figure at 0x381f668>"
      ]
     },
     "metadata": {},
     "output_type": "display_data"
    }
   ],
   "source": [
    "%matplotlib inline\n",
    "\n",
    "import matplotlib.pyplot as plt\n",
    "import numpy as np\n",
    "import csv\n",
    "import datetime\n",
    "\n",
    "f = open(\"C:\\\\Users\\\\boi\\\\Desktop\\\\testnotepad.csv\")\n",
    "\n",
    "vals = []\n",
    "x = []\n",
    "\n",
    "isheaders = True\n",
    "\n",
    "for row in csv.reader(f):\n",
    "    \n",
    "    if isheaders:\n",
    "        isheaders = False\n",
    "        continue\n",
    "    \n",
    "    dp = row[0].split(';')\n",
    "    x.append(dp[0])\n",
    "    vals.append(int(dp[1]))\n",
    "\n",
    "f.close()\n",
    "\n",
    "#2015-07-02 00:15:08.000\n",
    "\n",
    "datetimes = [datetime.datetime.strptime(t, \"%Y-%m-%d %H:%M:%S.%f\") for t in x]\n",
    "\n",
    "\n",
    "plt.plot(datetimes,vals)\n"
   ]
  },
  {
   "cell_type": "code",
   "execution_count": null,
   "metadata": {
    "collapsed": true
   },
   "outputs": [],
   "source": []
  }
 ],
 "metadata": {
  "kernelspec": {
   "display_name": "Python 2",
   "language": "python",
   "name": "python2"
  },
  "language_info": {
   "codemirror_mode": {
    "name": "ipython",
    "version": 2
   },
   "file_extension": ".py",
   "mimetype": "text/x-python",
   "name": "python",
   "nbconvert_exporter": "python",
   "pygments_lexer": "ipython2",
   "version": "2.7.10"
  }
 },
 "nbformat": 4,
 "nbformat_minor": 0
}
